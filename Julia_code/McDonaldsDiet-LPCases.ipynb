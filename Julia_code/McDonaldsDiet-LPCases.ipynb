{
 "cells": [
  {
   "attachments": {},
   "cell_type": "markdown",
   "metadata": {},
   "source": [
    "# McDonalds Diet Problem\n",
    "\n",
    "In this notebook, we will determine the minimum cost McDonalds diet"
   ]
  },
  {
   "cell_type": "code",
   "execution_count": null,
   "metadata": {},
   "outputs": [],
   "source": [
    "foods = [:QP, :MD, :BM, :FF, :MC, :FR, :SM, :M1, :OJ]\n",
    "# Word to the wise---Julia symbols cannot start with a number (M1 instead of 1M. It took me a while to figure this out)\n",
    "\n",
    "nutrients = [:Prot, :VitA, :VitC, :Calc, :Iron, :Cals, :Carb]\n",
    "\n",
    "cost = Dict(zip(foods,[1.84,2.19,1.84,1.44,2.29,0.77,1.29,0.6,0.72]))\n",
    "required = Dict(zip(nutrients,[55,100,100,100,100,2000,350]))\n",
    "using NamedArrays\n",
    "A = [\n",
    "    28 24 25 14 31 3 15 9 1\n",
    "    15 15 6 2 8 0 4 10 2\n",
    "    6 10 2 0 15 15 0 4 120\n",
    "    30 20 25 15 15 0 20 30 2\n",
    "    20 20 20 10 8 2 15 0 2\n",
    "    510 370 500 370 400 220 345 110 80\n",
    "    34 33 42 38 42 26 27 12 20\n",
    "]\n",
    "A_NA = NamedArray(A, (nutrients,foods), (\"Nutrients\",\"Menu Items\")) ;\n",
    "\n",
    "\n",
    "\n"
   ]
  },
  {
   "cell_type": "code",
   "execution_count": null,
   "metadata": {},
   "outputs": [],
   "source": [
    "burgers = [:QP, :MD, :BM] ;"
   ]
  },
  {
   "cell_type": "markdown",
   "metadata": {},
   "source": [
    "Suppose instead of minimizing cost, I wish to maximize the number of hamburgers I eat.  (I like hamburgers A LOT!)"
   ]
  },
  {
   "cell_type": "code",
   "execution_count": null,
   "metadata": {},
   "outputs": [],
   "source": [
    "using JuMP, HiGHS\n",
    "m = Model(HiGHS.Optimizer)\n",
    "@variable(m, x[foods] >= 0)\n",
    "@objective(m, Max, sum(x[j] for j in burgers))\n",
    "@constraint(m, [i in nutrients], sum(A_NA[i,j]*x[j] for j in foods) >= required[i])\n",
    "\n",
    "# If you don't want the solver output, you can make it slient like this\n",
    "#set_silent(m)\n",
    "optimize!(m)\n",
    "\n",
    "# You can use the Julia Formatting library for prettier printing, specifying precision, or you can use @printf like C\n",
    "using Formatting\n",
    "printfmtln(\"Maximum Number Hamburgers {:.2f}: \", objective_value(m))\n",
    "for j in foods\n",
    "    if value(x[j]) > 1.0e-6\n",
    "        printfmtln(\"Eat {1:.2f} of menu item {2}\", value(x[j]), j)\n",
    "    end\n",
    "end\n",
    "\n"
   ]
  },
  {
   "cell_type": "markdown",
   "metadata": {},
   "source": [
    "See that the Model status is Unbounded!\n",
    "In this case the \"solution\" returned is garbage.\n",
    "We need to make sure the Model Status is 'Optimal' in order to 'trust' the solution.\n",
    "See https://jump.dev/JuMP.jl/stable/manual/solutions/ for manual page"
   ]
  },
  {
   "cell_type": "code",
   "execution_count": null,
   "metadata": {},
   "outputs": [],
   "source": [
    "opt_status = termination_status(m)\n",
    "if opt_status != MOI.OPTIMAL\n",
    "    println(\"Solver did not find optimal solution, status: \", stat)\n",
    "end\n"
   ]
  },
  {
   "cell_type": "markdown",
   "metadata": {},
   "source": [
    "Here DUAL_INFEASIBLE status means that the LP instance was UNBOUNDED.\n",
    "(We will learn more about duality later in the class)"
   ]
  },
  {
   "cell_type": "markdown",
   "metadata": {},
   "source": [
    "In the interest of extended my life, my wife has requested that I obey the following constraints:\n",
    "\n",
    "1. Don't eat more than 3 sandwiches per day\n",
    "2. Don't drink too much  (Always very good advice).  At most 3 drinks per day.\n",
    "3. Don't eat more than 2 orders of french fries per day.\n"
   ]
  },
  {
   "cell_type": "code",
   "execution_count": null,
   "metadata": {},
   "outputs": [],
   "source": [
    "sammiches = [:QP, :MD, :BM, :FF, :MC, :SM]\n",
    "\n",
    "# Let's just make a new model for this\n",
    "m2 = Model(HiGHS.Optimizer)\n",
    "@variable(m2, x[foods] >= 0)\n",
    "@objective(m2, Min, sum(cost[j]*x[j] for j in foods))\n",
    "@constraint(m2, [i in nutrients], sum(A_NA[i,j]*x[j] for j in foods) >= required[i])\n",
    "# We can 'name' the constraints if we wish\n",
    "@constraint(m2, MaxSammich, sum(x[j] for j in sammiches) <= 3)\n",
    "@constraint(m2, MaxDrinks, x[:M1] + x[:OJ] <= 3)\n",
    "@constraint(m2, MaxFF, x[:FF] <= 2)\n",
    "optimize!(m2)\n",
    "\n",
    "opt_status = termination_status(m2)\n",
    "if opt_status != MOI.OPTIMAL\n",
    "    println(\"Solver did not find optimal solution, status: \", stat)\n",
    "end"
   ]
  },
  {
   "cell_type": "markdown",
   "metadata": {},
   "source": [
    "* Suppose I think that the ``too much drinking'' constraint is the one causing the problem to be infeasible\n",
    "\n",
    "* Let's create a new problem to determine if I had more than 3 drinks, the instance could be feasible \n",
    "\n",
    "* $s$:  Number of extra drinks (over three)\n",
    "that I must drink in order to get a feasible solution\n",
    "$$x_{1M} + x_{OJ} - s \\leq 3, s \\geq 0$$\n",
    "* New Objective: $\\min s$"
   ]
  },
  {
   "cell_type": "code",
   "execution_count": null,
   "metadata": {},
   "outputs": [],
   "source": [
    "using Printf\n",
    "# We can delete constraints from a model \n",
    "delete(m2,MaxDrinks)\n",
    "# Add a new variable\n",
    "@variable(m2, s >= 0)\n",
    "@constraint(m2, NewMaxDrinks, x[:M1] + x[:OJ] - s <= 3)\n",
    "# This will over-write the old objective in model m2\n",
    "@objective(m2, Min, s)\n",
    "\n",
    "optimize!(m2)\n",
    "opt_status = termination_status(m2)\n",
    "if stat != MOI.OPTIMAL\n",
    "    println(\"Solver did not find optimal solution, status: \", stat)\n",
    "else\n",
    "    @printf(\"I have to drink %.2f (extra) drinks\\n\", objective_value(m2))\n",
    "    @printf(\"%.2f milk, %.2f OJ\", value(x[:M1]), value(x[:OJ]))\n",
    "end"
   ]
  }
 ],
 "metadata": {
  "kernelspec": {
   "display_name": "Julia 1.10.0",
   "language": "julia",
   "name": "julia-1.10"
  },
  "language_info": {
   "file_extension": ".jl",
   "mimetype": "application/julia",
   "name": "julia",
   "version": "1.10.0"
  }
 },
 "nbformat": 4,
 "nbformat_minor": 2
}
