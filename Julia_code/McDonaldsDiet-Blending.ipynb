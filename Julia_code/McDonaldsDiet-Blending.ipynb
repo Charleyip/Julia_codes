{
 "cells": [
  {
   "attachments": {},
   "cell_type": "markdown",
   "metadata": {},
   "source": [
    "# McDonalds Diet Problem\n",
    "\n",
    "In this notebook, we will determine the minimum cost McDonalds diet"
   ]
  },
  {
   "cell_type": "code",
   "execution_count": null,
   "metadata": {},
   "outputs": [],
   "source": [
    "foods = [:QP, :MD, :BM, :FF, :MC, :FR, :SM, :M1, :OJ]\n",
    "# Word to the wise---Julia symbols cannot start with a number (M1 instead of 1M. It took me a while to figure this out)\n",
    "\n",
    "nutrients = [:Prot, :VitA, :VitC, :Calc, :Iron, :Cals, :Carb]\n",
    "\n",
    "cost = Dict(zip(foods,[1.84,2.19,1.84,1.44,2.29,0.77,1.29,0.6,0.72]))\n",
    "required = Dict(zip(nutrients,[55,100,100,100,100,2000,350]))\n",
    "using NamedArrays\n",
    "A = [\n",
    "    28 24 25 14 31 3 15 9 1\n",
    "    15 15 6 2 8 0 4 10 2\n",
    "    6 10 2 0 15 15 0 4 120\n",
    "    30 20 25 15 15 0 20 30 2\n",
    "    20 20 20 10 8 2 15 0 2\n",
    "    510 370 500 370 400 220 345 110 80\n",
    "    34 33 42 38 42 26 27 12 20\n",
    "]\n",
    "A_NA = NamedArray(A, (nutrients,foods), (\"Nutrients\",\"Menu Items\")) ;\n",
    "\n"
   ]
  },
  {
   "cell_type": "markdown",
   "metadata": {},
   "source": [
    "Some new requirements \n",
    "\n",
    "Helen will allow me to eat as many burgers as a want, so I can maximize the number of burgers, but \n",
    "\n",
    "* We now have some maximum amount of every nutrient (say twice the minimum requirement)\n",
    "\n",
    "* I can't let the number of calories I eat get \"out of proportion\" to my vitamin levels.\n",
    "Specifically \n",
    "\n",
    "(cals eaten)/(vitc eaten) <= $\\rho$\n",
    "\n",
    "(cals eaten)/(vita eaten) <= $\\rho$\n",
    "\n",
    "for $\\rho = 40$\n"
   ]
  },
  {
   "cell_type": "code",
   "execution_count": null,
   "metadata": {},
   "outputs": [],
   "source": [
    "burgers = [:QP, :MD, :BM]\n",
    "# Fancy dict comprehension to create max_allowed\n",
    "max_allowed = Dict( x => 3*required[x] for x in keys(required))\n",
    "\n",
    "ρ = 40 ;"
   ]
  },
  {
   "cell_type": "code",
   "execution_count": null,
   "metadata": {},
   "outputs": [],
   "source": [
    "using JuMP, HiGHS\n",
    "m = Model(HiGHS.Optimizer)\n",
    "@variable(m, x[foods] >= 0)\n",
    "@objective(m, Max, sum(x[j] for j in burgers))\n",
    "@constraint(m, [i in nutrients], sum(A_NA[i,j]*x[j] for j in foods) >= required[i])\n",
    "\n",
    "# Add max nutrients \n",
    "@constraint(m, [i in nutrients], sum(A_NA[i,j]*x[j] for j in foods) <= max_allowed[i])\n",
    "\n",
    "# Let's use 'expressions'\n",
    "@expression(m, cals_eaten, sum(A_NA[:Cals,j]*x[j] for j in foods))\n",
    "@expression(m, vitc_eaten, sum(A_NA[:VitC,j]*x[j] for j in foods))\n",
    "@expression(m, vita_eaten, sum(A_NA[:VitA,j]*x[j] for j in foods))\n",
    "\n",
    "# Do the ratio constraints\n",
    "@constraint(m, vitc_ratio, cals_eaten / vitc_eaten <= ρ)\n",
    "@constraint(m, vita_ratio, cals_eaten / vita_eaten <= ρ)\n",
    "\n",
    "print(m)\n",
    "\n",
    "# If you don't want the solver output, you can make it slient like this\n",
    "set_silent(m)\n",
    "optimize!(m)\n",
    "\n",
    "# You can use the Julia Formatting library for prettier printing, specifying precision, or you can use @printf like C\n",
    "using Formatting\n",
    "printfmtln(\"Minimum cost menu \\${:.2f}: \", objective_value(m))\n",
    "for j in foods\n",
    "    if value(x[j]) > 1.0e-6\n",
    "        printfmtln(\"Eat {1:.2f} of menu item {2}\", value(x[j]), j)\n",
    "    end\n",
    "end\n",
    "\n"
   ]
  },
  {
   "cell_type": "markdown",
   "metadata": {},
   "source": [
    "Oh Dear, this was not a linear program, so HiGHS could not solve it.\n",
    "\n",
    "(cals eaten)/(vitc eaten) <= $\\rho$\n",
    "\n",
    "(cals eaten)/(vita eaten) <= $\\rho$\n",
    "\n",
    "But since vitc eaten and vita eaten are both > 0, we can multiply through by the denominator and write it as a linear program:\n",
    "\n",
    "(cals eaten) <= (vitc eaten) * $\\rho$\n",
    "\n",
    "(cals eaten) <= (vita eaten) * $\\rho$"
   ]
  },
  {
   "cell_type": "code",
   "execution_count": null,
   "metadata": {},
   "outputs": [],
   "source": [
    "using JuMP, HiGHS\n",
    "m = Model(HiGHS.Optimizer)\n",
    "@variable(m, x[foods] >= 0)\n",
    "@objective(m, Max, sum(x[j] for j in burgers))\n",
    "@constraint(m, [i in nutrients], sum(A_NA[i,j]*x[j] for j in foods) >= required[i])\n",
    "\n",
    "# Add max nutrients \n",
    "@constraint(m, [i in nutrients], sum(A_NA[i,j]*x[j] for j in foods) <= max_allowed[i])\n",
    "\n",
    "# Let's use 'expressions'\n",
    "@expression(m, cals_eaten, sum(A_NA[:Cals,j]*x[j] for j in foods))\n",
    "@expression(m, vitc_eaten, sum(A_NA[:VitC,j]*x[j] for j in foods))\n",
    "@expression(m, vita_eaten, sum(A_NA[:VitA,j]*x[j] for j in foods))\n",
    "\n",
    "# Do the ratio constraints as LP\n",
    "@constraint(m, vitc_ratio, cals_eaten <= vitc_eaten * ρ)\n",
    "@constraint(m, vita_ratio, cals_eaten <= vita_eaten * ρ)\n",
    "\n",
    "\n",
    "# If you don't want the solver output, you can make it slient like this\n",
    "#set_silent(m)\n",
    "optimize!(m)\n",
    "\n",
    "# You can use the Julia Formatting library for prettier printing, specifying precision, or you can use @printf like C\n",
    "using Formatting\n",
    "printfmtln(\"Minimum cost menu \\${:.2f}: \", objective_value(m))\n",
    "for j in foods\n",
    "    if value(x[j]) > 1.0e-6\n",
    "        printfmtln(\"Eat {1:.2f} of menu item {2}\", value(x[j]), j)\n",
    "    end\n",
    "end\n",
    "\n"
   ]
  }
 ],
 "metadata": {
  "kernelspec": {
   "display_name": "Julia 1.10.0",
   "language": "julia",
   "name": "julia-1.10"
  },
  "language_info": {
   "file_extension": ".jl",
   "mimetype": "application/julia",
   "name": "julia",
   "version": "1.10.0"
  }
 },
 "nbformat": 4,
 "nbformat_minor": 2
}
